{
 "cells": [
  {
   "cell_type": "code",
   "execution_count": 2,
   "metadata": {},
   "outputs": [
    {
     "name": "stdout",
     "output_type": "stream",
     "text": [
      "The Mean Square Error is:  1.45\n"
     ]
    }
   ],
   "source": [
    "y = [11,20,19,17,10]\n",
    "y_bar = [12,18,19.5,18,9]\n",
    "summation = 0  #variable to store the summation of differences\n",
    "n = len(y) #finding total number of items in list\n",
    "for i in range (0,n):  #looping through each element of the list\n",
    "  difference = y[i] - y_bar[i]  #finding the difference between observed and predicted value\n",
    "  squared_difference = difference**2  #taking square of the differene \n",
    "  summation = summation + squared_difference  #taking a sum of all the differences\n",
    "MSE = summation/n  #dividing summation by total values to obtain average\n",
    "print( \"The Mean Square Error is: \" , MSE)"
   ]
  },
  {
   "cell_type": "code",
   "execution_count": null,
   "metadata": {},
   "outputs": [],
   "source": []
  }
 ],
 "metadata": {
  "kernelspec": {
   "display_name": "Python 3",
   "language": "python",
   "name": "python3"
  },
  "language_info": {
   "codemirror_mode": {
    "name": "ipython",
    "version": 3
   },
   "file_extension": ".py",
   "mimetype": "text/x-python",
   "name": "python",
   "nbconvert_exporter": "python",
   "pygments_lexer": "ipython3",
   "version": "3.7.3"
  }
 },
 "nbformat": 4,
 "nbformat_minor": 2
}
